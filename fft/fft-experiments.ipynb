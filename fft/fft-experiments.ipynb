{
 "cells": [
  {
   "cell_type": "markdown",
   "id": "9885c5af",
   "metadata": {},
   "source": [
    "---\n",
    "### Experiments in FFT\n",
    "\n",
    "25 oct 2024\n",
    "\n",
    "burt rosenberg\n",
    "\n",
    "---"
   ]
  },
  {
   "cell_type": "code",
   "execution_count": 1,
   "id": "e492da19",
   "metadata": {},
   "outputs": [],
   "source": [
    "import cmath, math\n",
    "\n",
    "class FFT_Transform:\n",
    "    \n",
    "    def __init__(self):\n",
    "        self.td = None\n",
    "        self.n = None\n",
    "        self.fd = None\n",
    "        \n",
    "    @staticmethod\n",
    "    def rounded(w,d=3):\n",
    "        return [round(x.real,d)+1j*round(x.imag,d)for x in w]\n",
    "    \n",
    "    def time_domain(self,w):\n",
    "        self.td = w[:]\n",
    "        self.n = len(w)\n",
    "        self.fd = self.fourier()\n",
    "        \n",
    "    def freq_domain(self,w):\n",
    "        self.fd = w[:]\n",
    "        self.n = len(w)\n",
    "        self.td = self.inv_fourier()\n",
    "\n",
    "    def evalpoly(self,w,x):\n",
    "        l = len(w)\n",
    "        s = w[l-1]\n",
    "        for i in range(2,l+1):\n",
    "            s = w[l-i] + s * x\n",
    "        return s\n",
    "   \n",
    "    def vandermonde(self,x,w):\n",
    "        x_t = [0]*self.n\n",
    "        for i in range(self.n):\n",
    "            x_t[i] = self.evalpoly(x,w**i)/math.sqrt(self.n)\n",
    "        return x_t\n",
    "\n",
    "    def n_root(self):\n",
    "        return cmath.exp(2.0j*math.pi/self.n)\n",
    "            \n",
    "    def fourier(self):\n",
    "        return self.vandermonde(self.td, self.n_root())\n",
    " \n",
    "    def inv_fourier(self):\n",
    "        return self.vandermonde(self.fd, self.n_root()**(-1))\n",
    "            \n"
   ]
  },
  {
   "cell_type": "code",
   "execution_count": 2,
   "id": "c8ac9dd2",
   "metadata": {},
   "outputs": [],
   "source": [
    "fft = FFT_Transform()"
   ]
  },
  {
   "cell_type": "code",
   "execution_count": 3,
   "id": "9999959c",
   "metadata": {},
   "outputs": [],
   "source": [
    "w = [0]*8\n",
    "w[0] = 1\n",
    "fft.time_domain(w)\n",
    "#fft.freq_domain(fft.fd)"
   ]
  },
  {
   "cell_type": "code",
   "execution_count": 4,
   "id": "078518d3",
   "metadata": {},
   "outputs": [
    {
     "data": {
      "text/plain": [
       "[(0.354+0j),\n",
       " (0.354+0j),\n",
       " (0.354+0j),\n",
       " (0.354+0j),\n",
       " (0.354+0j),\n",
       " (0.354+0j),\n",
       " (0.354+0j),\n",
       " (0.354+0j)]"
      ]
     },
     "execution_count": 4,
     "metadata": {},
     "output_type": "execute_result"
    }
   ],
   "source": [
    "fft.rounded(fft.fd)"
   ]
  },
  {
   "cell_type": "code",
   "execution_count": 19,
   "id": "524dca27",
   "metadata": {},
   "outputs": [],
   "source": [
    "import numpy as np\n",
    "\n",
    "n = 5\n",
    "w = cmath.exp(2.0j*math.pi/n)\n",
    "fft = np.array([0+0j for i in range(n**2)])\n",
    "fft.shape = (n,n)\n",
    "for i in range(n):\n",
    "    for j in range(n):\n",
    "        fft[i][j] = w**(i*j)/math.sqrt(n)"
   ]
  },
  {
   "cell_type": "code",
   "execution_count": 20,
   "id": "4fa85d53",
   "metadata": {},
   "outputs": [
    {
     "data": {
      "text/plain": [
       "[(-1+0j)]"
      ]
     },
     "execution_count": 20,
     "metadata": {},
     "output_type": "execute_result"
    }
   ],
   "source": [
    "np.isclose(0-1j,np.linalg.det(fft))\n",
    "FFT_Transform.rounded([np.linalg.det(fft)])"
   ]
  },
  {
   "cell_type": "code",
   "execution_count": 21,
   "id": "70ca7dc7",
   "metadata": {},
   "outputs": [
    {
     "data": {
      "text/plain": [
       "[(1+0j), (-1+0j), (-0-1j), (1+0j), 1j]"
      ]
     },
     "execution_count": 21,
     "metadata": {},
     "output_type": "execute_result"
    }
   ],
   "source": [
    "FFT_Transform.rounded(np.linalg.eigvals(fft))"
   ]
  },
  {
   "cell_type": "code",
   "execution_count": 8,
   "id": "3b6c7f11",
   "metadata": {},
   "outputs": [],
   "source": [
    "fft_i = np.array([0+0j for i in range(n**2)])\n",
    "fft_i.shape = (n,n)\n",
    "for i in range(n):\n",
    "    for j in range(n):\n",
    "        fft_i[i][j] = w**(-i*j)/math.sqrt(n)"
   ]
  },
  {
   "cell_type": "code",
   "execution_count": 9,
   "id": "f37a51f0",
   "metadata": {},
   "outputs": [
    {
     "data": {
      "text/plain": [
       "array([[ 1.00000000e+00+8.60069411e-33j,  3.63373587e-17+1.38777878e-16j,\n",
       "        -1.22369820e-32+1.22464680e-16j,  3.63373587e-17+1.38777878e-16j],\n",
       "       [ 3.63373587e-17+1.38777878e-16j,  1.00000000e+00-7.34788079e-16j,\n",
       "        -6.40929343e-17+2.61242558e-16j,  5.48634040e-32+2.44929360e-16j],\n",
       "       [-1.22369820e-32+1.22464680e-16j, -6.40929343e-17+2.61242558e-16j,\n",
       "         1.00000000e+00-7.34788079e-16j, -6.40929343e-17+2.61242558e-16j],\n",
       "       [ 3.63373587e-17+1.38777878e-16j,  5.48634040e-32+2.44929360e-16j,\n",
       "        -6.40929343e-17+2.61242558e-16j,  1.00000000e+00-7.34788079e-16j]])"
      ]
     },
     "execution_count": 9,
     "metadata": {},
     "output_type": "execute_result"
    }
   ],
   "source": [
    "np.matmul(fft_i,fft)\n",
    "np.matmul(np.matmul(fft,fft),np.matmul(fft,fft))"
   ]
  },
  {
   "cell_type": "code",
   "execution_count": null,
   "id": "0d05f262",
   "metadata": {},
   "outputs": [],
   "source": []
  }
 ],
 "metadata": {
  "kernelspec": {
   "display_name": "Python 3 (ipykernel)",
   "language": "python",
   "name": "python3"
  },
  "language_info": {
   "codemirror_mode": {
    "name": "ipython",
    "version": 3
   },
   "file_extension": ".py",
   "mimetype": "text/x-python",
   "name": "python",
   "nbconvert_exporter": "python",
   "pygments_lexer": "ipython3",
   "version": "3.9.7"
  }
 },
 "nbformat": 4,
 "nbformat_minor": 5
}
