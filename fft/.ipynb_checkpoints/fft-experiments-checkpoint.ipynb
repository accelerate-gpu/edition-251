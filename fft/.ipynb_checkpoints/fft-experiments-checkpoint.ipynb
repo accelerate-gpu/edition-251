{
 "cells": [
  {
   "cell_type": "markdown",
   "id": "079a5e4d",
   "metadata": {},
   "source": [
    "---\n",
    "### Experiments in FFT\n",
    "\n",
    "25 oct 20204\n",
    "\n",
    "burt rosenberg\n",
    "\n",
    "---"
   ]
  },
  {
   "cell_type": "code",
   "execution_count": 92,
   "id": "e492da19",
   "metadata": {},
   "outputs": [],
   "source": [
    "import cmath, math\n",
    "\n",
    "class FFT_Transform:\n",
    "    \n",
    "    def __init__(self):\n",
    "        self.td = None\n",
    "        self.n = None\n",
    "        self.fd = None\n",
    "        \n",
    "    @staticmethod\n",
    "    def rounded(self,w,d=3):\n",
    "        return [round(x.real,d)+1j*round(x.imag,d)for x in w]\n",
    "    \n",
    "    def time_domain(self,w):\n",
    "        self.td = w[:]\n",
    "        self.n = len(w)\n",
    "        self.fd = self.fourier()\n",
    "        \n",
    "    def freq_domain(self,w):\n",
    "        self.fd = w[:]\n",
    "        self.n = len(w)\n",
    "        self.td = self.inv_fourier()\n",
    "\n",
    "    def evalpoly(self,w,x):\n",
    "        l = len(w)\n",
    "        s = w[l-1]\n",
    "        for i in range(2,l+1):\n",
    "            s = w[l-i] + s * x\n",
    "        return s\n",
    "   \n",
    "    def vandermonde(self,x,w):\n",
    "        x_t = [0]*self.n\n",
    "        for i in range(self.n):\n",
    "            x_t[i] = self.evalpoly(x,w**i)/math.sqrt(self.n)\n",
    "        return x_t\n",
    "\n",
    "    def n_root(self):\n",
    "        return cmath.exp(2.0j*math.pi/self.n)\n",
    "            \n",
    "    def fourier(self):\n",
    "        return self.vandermonde(self.td, self.n_root())\n",
    " \n",
    "    def inv_fourier(self):\n",
    "        return self.vandermonde(self.fd, self.n_root()**(-1))\n",
    "            \n"
   ]
  },
  {
   "cell_type": "code",
   "execution_count": 87,
   "id": "c8ac9dd2",
   "metadata": {},
   "outputs": [],
   "source": [
    "fft = FFT_Transform()"
   ]
  },
  {
   "cell_type": "code",
   "execution_count": 88,
   "id": "9999959c",
   "metadata": {},
   "outputs": [],
   "source": [
    "w = [0]*8\n",
    "w[0] = 1\n",
    "fft.time_domain(w)\n",
    "#fft.freq_domain(fft.fd)"
   ]
  },
  {
   "cell_type": "code",
   "execution_count": 91,
   "id": "078518d3",
   "metadata": {},
   "outputs": [
    {
     "data": {
      "text/plain": [
       "[(0.354+0j),\n",
       " (0.354+0j),\n",
       " (0.354+0j),\n",
       " (0.354+0j),\n",
       " (0.354+0j),\n",
       " (0.354+0j),\n",
       " (0.354+0j),\n",
       " (0.354+0j)]"
      ]
     },
     "execution_count": 91,
     "metadata": {},
     "output_type": "execute_result"
    }
   ],
   "source": [
    "fft.rounded(fft.fd)"
   ]
  },
  {
   "cell_type": "code",
   "execution_count": 121,
   "id": "aacf545c",
   "metadata": {},
   "outputs": [],
   "source": [
    "import numpy as np\n",
    "\n",
    "n = 4\n",
    "w = cmath.exp(2.0j*math.pi/n)\n",
    "fft = np.array([0+0j for i in range(n**2)])\n",
    "fft.shape = (n,n)\n",
    "for i in range(n):\n",
    "    for j in range(n):\n",
    "        fft[i][j] = w**(i*j)/math.sqrt(n)"
   ]
  },
  {
   "cell_type": "code",
   "execution_count": 123,
   "id": "67c301bb",
   "metadata": {},
   "outputs": [
    {
     "data": {
      "text/plain": [
       "True"
      ]
     },
     "execution_count": 123,
     "metadata": {},
     "output_type": "execute_result"
    }
   ],
   "source": [
    "np.isclose(0-1j,np.linalg.det(fft))"
   ]
  },
  {
   "cell_type": "code",
   "execution_count": 124,
   "id": "633ade79",
   "metadata": {},
   "outputs": [
    {
     "data": {
      "text/plain": [
       "array([ 1.00000000e+00+3.42424236e-17j, -1.00000000e+00+1.02727271e-16j,\n",
       "        3.33066907e-16+1.00000000e+00j,  1.00000000e+00-3.50414142e-16j])"
      ]
     },
     "execution_count": 124,
     "metadata": {},
     "output_type": "execute_result"
    }
   ],
   "source": [
    "np.linalg.eigvals(fft)"
   ]
  },
  {
   "cell_type": "code",
   "execution_count": null,
   "id": "6ad85ac1",
   "metadata": {},
   "outputs": [],
   "source": []
  }
 ],
 "metadata": {
  "kernelspec": {
   "display_name": "Python 3 (ipykernel)",
   "language": "python",
   "name": "python3"
  },
  "language_info": {
   "codemirror_mode": {
    "name": "ipython",
    "version": 3
   },
   "file_extension": ".py",
   "mimetype": "text/x-python",
   "name": "python",
   "nbconvert_exporter": "python",
   "pygments_lexer": "ipython3",
   "version": "3.9.7"
  }
 },
 "nbformat": 4,
 "nbformat_minor": 5
}
